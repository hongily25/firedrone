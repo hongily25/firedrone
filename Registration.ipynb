{
  "cells": [
    {
      "metadata": {},
      "cell_type": "markdown",
      "source": "### Install the FireDrone API Client SDK\n\nWe have provided an easy to install SDK that you can use to control your drone within the simulation environment. Run the following command to pip install the SDK."
    },
    {
      "metadata": {
        "trusted": true
      },
      "cell_type": "code",
      "source": "!pip install --index-url https://test.pypi.org/simple/ fire-drone-sdk -U",
      "execution_count": null,
      "outputs": []
    },
    {
      "metadata": {},
      "cell_type": "markdown",
      "source": "### Import dependencies\nOnce you have the SDK installed, you need to import the FireDrone Client and related modules."
    },
    {
      "metadata": {
        "trusted": true
      },
      "cell_type": "code",
      "source": "import firedrone.client as fdc\nfrom firedrone.client.errors import FireDroneClientHttpError",
      "execution_count": null,
      "outputs": []
    },
    {
      "metadata": {},
      "cell_type": "markdown",
      "source": "### Register a new user for your team\n\nYou will need to know your Devpost user name in order to successfully register for the FireDrone API using the Client SDK. Your user must be registered to the [competition](https://firedrone.devpost.com).\n\nIf the Devpost user name you specify has already been used to register a team, your request will be denied.\nIn case you suspect any abuse regarding your Devpost user name, please contact us immediately at hack-support@solliance.net or [the competition Slack channel](https://firedroneai.slack.com/join/shared_invite/enQtNjUwMjYwMzQwNDIzLTkzYWY3ZjU2N2Y3YWY2MTAzNmRlMDc5N2ExYWJiNjVhN2Q4NWI4MjFiNWFkZTAwMmVjYjQ4YjNjN2I4ZTdkMDM).\n\nYou will need to provide a team name, between 1 and 100 characters long. In case the team name is already registered, please choose a diferent team name.\n\nMake sure you replace both the team name and the Devpost account with the proper values in the cell below."
    },
    {
      "metadata": {},
      "cell_type": "markdown",
      "source": "The ```Registration``` class is the main entry point in the SDK for team registration."
    },
    {
      "metadata": {
        "trusted": true
      },
      "cell_type": "code",
      "source": "registration = fdc.Registration()\n\n# Register a new user for your team\n# -------------------------------------------------------------------------------------------\n\nuser_registration_info = {\n    \"name\": \"Team 02\", # Make sure to specify a name that is not already in use\n    \"devpostAccount\": \"devpostAccount01\"\n}\nnew_user = registration.register_user(user_registration_info)\nprint(new_user)",
      "execution_count": null,
      "outputs": []
    },
    {
      "metadata": {},
      "cell_type": "markdown",
      "source": "When successfull, the registration process will return the numeric identifier of your team's user as well as the API key you will use to authorize calls to the API.\n\n**Note**: All API calls (except ```register_user```) require a valid API key.\n\n**IMPORTANT!!! - Save your API key as this is the only time you will be able to get it.**"
    },
    {
      "metadata": {},
      "cell_type": "markdown",
      "source": "### Activation of your user\n\nInitially, your user is disabled. Once we validate your Devpost account, we will enable your user. From that point on, you're good to go. \n\n**Note**: It may take several hours before the validation process is finished. We encourage you to proceed with the registration at your earliest convenience, to avoid time pressure later on.\n\nYou can check if the user has been activated by trying to make a call to get a list of available scenes (see the cells below for instructions on how to do that)."
    },
    {
      "metadata": {},
      "cell_type": "markdown",
      "source": "### Making calls to the FireDrone API"
    },
    {
      "metadata": {},
      "cell_type": "markdown",
      "source": "The ```Workspace``` class is the main entry point for all interaction with the FireDrone API (except for the registration process described above).\nTo initialize your workspace you need the API key that you received as a response to the user registration call."
    },
    {
      "metadata": {
        "trusted": true
      },
      "cell_type": "code",
      "source": "# Create a new client workspace.\n# -------------------------------------------------------------------------------------------\n\nworkspace = fdc.Workspace(new_user['key'])\n\n# Get a list of available scenes.\n# -------------------------------------------------------------------------------------------\n\ntry:\n    scenes = workspace.get_scenes()\n    print(scenes)\nexcept FireDroneClientHttpError as e:\n    print(e.status_code)",
      "execution_count": null,
      "outputs": []
    },
    {
      "metadata": {},
      "cell_type": "markdown",
      "source": "Getting a 401 - Unauthorized means your user is not yet enabled (provided of course that you are using a valid API key). Because of that, you're not allowed to perform any operation.\n\nIt's a good time to sit back, relax, and start thinking about all the cool models your team will build during the contest.\nOnce the user is activated, run again the code from the cell above. You should get a list with the scenes that are available in the contest.\n\nIf more than 24 hours have passed since you registered and your user is still not enabled, feel gree to ping us at hack-support@solliance.net or [the competition Slack channel](https://firedroneai.slack.com/join/shared_invite/enQtNjUwMjYwMzQwNDIzLTkzYWY3ZjU2N2Y3YWY2MTAzNmRlMDc5N2ExYWJiNjVhN2Q4NWI4MjFiNWFkZTAwMmVjYjQ4YjNjN2I4ZTdkMDM)."
    },
    {
      "metadata": {},
      "cell_type": "markdown",
      "source": "**IMPORTANT! - Make sure you check periodically the list of available scenes. We will probably add new ones as the contest progresses.**"
    }
  ],
  "metadata": {
    "kernelspec": {
      "name": "python36",
      "display_name": "Python 3.6",
      "language": "python"
    },
    "language_info": {
      "mimetype": "text/x-python",
      "nbconvert_exporter": "python",
      "name": "python",
      "pygments_lexer": "ipython3",
      "version": "3.6.6",
      "file_extension": ".py",
      "codemirror_mode": {
        "version": 3,
        "name": "ipython"
      }
    }
  },
  "nbformat": 4,
  "nbformat_minor": 2
}